{
 "cells": [
  {
   "cell_type": "code",
   "execution_count": 11,
   "metadata": {},
   "outputs": [],
   "source": [
    "import numpy as np\n",
    "import matplotlib.pyplot as plt\n",
    "%matplotlib inline"
   ]
  },
  {
   "cell_type": "code",
   "execution_count": 7,
   "metadata": {},
   "outputs": [],
   "source": [
    "\"\"\"\n",
    "A2-Part-1: Generate a sinusoid\n",
    "\n",
    "Write a function to generate a real sinusoid (use np.cos()) given its amplitude A, frequency f (Hz), initial phase phi (radians), \n",
    "sampling rate fs (Hz) and duration t (seconds). \n",
    "\n",
    "All the input arguments to this function (A, f, phi, fs and t) are real numbers such that A, t and fs are \n",
    "positive, and fs > 2*f to avoid aliasing. The function should return a numpy array x of the generated \n",
    "sinusoid.\n",
    "\n",
    "EXAMPLE: If you run your code using A=1.0, f = 10.0, phi = 1.0, fs = 50.0 and t = 0.1, the output numpy \n",
    "array should be: array([ 0.54030231, -0.63332387, -0.93171798,  0.05749049,  0.96724906])\n",
    "\"\"\"\n",
    "def genSine(A, f, phi, fs, t):\n",
    "    \"\"\"\n",
    "    Inputs:\n",
    "        A (float) =  amplitude of the sinusoid\n",
    "        f (float) = frequency of the sinusoid in Hz\n",
    "        phi (float) = initial phase of the sinusoid in radians\n",
    "        fs (float) = sampling frequency of the sinusoid in Hz\n",
    "        t (float) =  duration of the sinusoid (is second)\n",
    "    Output:\n",
    "        The function should return a numpy array\n",
    "        x (numpy array) = The generated sinusoid (use np.cos())\n",
    "    \"\"\"\n",
    "    n = np.arange(fs*t)\n",
    "    return A*np.cos(2*np.pi*f*n*1/fs + phi)"
   ]
  },
  {
   "cell_type": "code",
   "execution_count": 8,
   "metadata": {},
   "outputs": [
    {
     "name": "stdout",
     "output_type": "stream",
     "text": [
      "Testing result [ 0.54030231 -0.63332387 -0.93171798  0.05749049  0.96724906]\n"
     ]
    }
   ],
   "source": [
    "print('Testing result {}'.format(genSine(A = 1, f = 10.0, phi = 1.0, fs = 50, t = 0.1)))"
   ]
  },
  {
   "cell_type": "code",
   "execution_count": 18,
   "metadata": {},
   "outputs": [
    {
     "data": {
      "text/plain": [
       "<Container object of 3 artists>"
      ]
     },
     "execution_count": 18,
     "metadata": {},
     "output_type": "execute_result"
    },
    {
     "data": {
      "image/png": "[encoded data removed]",
      "text/plain": [
       "<matplotlib.figure.Figure at 0x11190eef0>"
      ]
     },
     "metadata": {},
     "output_type": "display_data"
    }
   ],
   "source": [
    "plt.stem(genSine(A = 1, f = 10.0, phi = 1.0, fs = 50, t = 0.1))"
   ]
  },
  {
   "cell_type": "code",
   "execution_count": 9,
   "metadata": {},
   "outputs": [],
   "source": [
    "\"\"\"\n",
    "A2-Part-2: Generate a complex sinusoid \n",
    "\n",
    "Write a function to generate the complex sinusoid that is used in DFT computation of length N (samples), \n",
    "corresponding to the frequency index k. Note that the complex sinusoid used in DFT computation has a \n",
    "negative sign in the exponential function.\n",
    "\n",
    "The amplitude of such a complex sinusoid is 1, the length is N, and the frequency in radians is 2*pi*k/N.\n",
    "\n",
    "The input arguments to the function are two positive integers, k and N, such that k < N-1. \n",
    "The function should return cSine, a numpy array of the complex sinusoid.\n",
    "\n",
    "EXAMPLE: If you run your function using N=5 and k=1, the function should return the following numpy array cSine:\n",
    "array([ 1.0 + 0.j,  0.30901699 - 0.95105652j, -0.80901699 - 0.58778525j, -0.80901699 + 0.58778525j, \n",
    "0.30901699 + 0.95105652j])\n",
    "\"\"\"\n",
    "def genComplexSine(k, N):\n",
    "    \"\"\"\n",
    "    Inputs:\n",
    "        k (integer) = frequency index of the complex sinusoid of the DFT\n",
    "        N (integer) = length of complex sinusoid in samples\n",
    "    Output:\n",
    "        The function should return a numpy array\n",
    "        cSine (numpy array) = The generated complex sinusoid (length N)\n",
    "    \"\"\"\n",
    "    n = np.arange(N)\n",
    "    return np.exp(-1j*2*np.pi*k*n/N)"
   ]
  },
  {
   "cell_type": "code",
   "execution_count": 10,
   "metadata": {},
   "outputs": [
    {
     "name": "stdout",
     "output_type": "stream",
     "text": [
      "Testing result [ 1.        +0.j          0.30901699-0.95105652j -0.80901699-0.58778525j\n",
      " -0.80901699+0.58778525j  0.30901699+0.95105652j]\n"
     ]
    }
   ],
   "source": [
    "print('Testing result {}'.format(genComplexSine(k=1, N=5)))"
   ]
  },
  {
   "cell_type": "code",
   "execution_count": 20,
   "metadata": {},
   "outputs": [
    {
     "data": {
      "text/plain": [
       "<Container object of 3 artists>"
      ]
     },
     "execution_count": 20,
     "metadata": {},
     "output_type": "execute_result"
    },
    {
     "data": {
      "image/png": "[encoded data removed]",
      "text/plain": [
       "<matplotlib.figure.Figure at 0x111fd8940>"
      ]
     },
     "metadata": {},
     "output_type": "display_data"
    }
   ],
   "source": [
    "plt.stem(np.real(genComplexSine(k=1, N=5)))"
   ]
  },
  {
   "cell_type": "code",
   "execution_count": 25,
   "metadata": {},
   "outputs": [],
   "source": [
    "\"\"\"\n",
    "A2-Part-3: Implement the discrete Fourier transform (DFT)\n",
    "\n",
    "Write a function that implements the discrete Fourier transform (DFT). Given a sequence x of length\n",
    "N, the function should return its DFT, its spectrum of length N with the frequency indexes ranging from 0 \n",
    "to N-1.\n",
    "\n",
    "The input argument to the function is a numpy array x and the function should return a numpy array X which \n",
    "is of the DFT of x.\n",
    "\n",
    "EXAMPLE: If you run your function using x = np.array([1, 2, 3, 4]), the function shoulds return the following numpy array:\n",
    "array([10.0 + 0.0j,  -2. +2.0j,  -2.0 - 9.79717439e-16j, -2.0 - 2.0j])\n",
    "\n",
    "Note that you might not get an exact 0 in the output because of the small numerical errors due to the\n",
    "limited precision of the data in your computer. Usually these errors are of the order 1e-15 depending\n",
    "on your machine.\n",
    "\"\"\"\n",
    "def DFT(x):\n",
    "    \"\"\"\n",
    "    Input:\n",
    "        x (numpy array) = input sequence of length N\n",
    "    Output:\n",
    "        The function should return a numpy array of length N\n",
    "        X (numpy array) = The N point DFT of the input sequence x\n",
    "    \"\"\"\n",
    "    X = np.array([])\n",
    "    for k in range(len(x)):\n",
    "        s = np.exp(1j*2*np.pi*k/len(x) * np.arange(len(x)))\n",
    "        X = np.append(X, np.sum(x*np.conjugate(s)))\n",
    "    return X\n",
    "        "
   ]
  },
  {
   "cell_type": "code",
   "execution_count": 47,
   "metadata": {},
   "outputs": [],
   "source": [
    "x = np.array([1, 0, 0, 0])"
   ]
  },
  {
   "cell_type": "code",
   "execution_count": 48,
   "metadata": {},
   "outputs": [
    {
     "name": "stdout",
     "output_type": "stream",
     "text": [
      "Testing result [1.+0.j 1.+0.j 1.+0.j 1.+0.j]\n"
     ]
    }
   ],
   "source": [
    "print('Testing result {}'.format(DFT(x)))"
   ]
  },
  {
   "cell_type": "code",
   "execution_count": 38,
   "metadata": {},
   "outputs": [
    {
     "data": {
      "text/plain": [
       "<Container object of 3 artists>"
      ]
     },
     "execution_count": 38,
     "metadata": {},
     "output_type": "execute_result"
    },
    {
     "data": {
      "image/png": "[encoded data removed]",
      "text/plain": [
       "<matplotlib.figure.Figure at 0x112935278>"
      ]
     },
     "metadata": {},
     "output_type": "display_data"
    }
   ],
   "source": [
    "plt.stem(np.abs(DFT(x)))"
   ]
  },
  {
   "cell_type": "code",
   "execution_count": 40,
   "metadata": {},
   "outputs": [
    {
     "data": {
      "text/plain": [
       "<Container object of 3 artists>"
      ]
     },
     "execution_count": 40,
     "metadata": {},
     "output_type": "execute_result"
    },
    {
     "data": {
      "image/png": "[encoded data removed]",
      "text/plain": [
       "<matplotlib.figure.Figure at 0x112d4d9e8>"
      ]
     },
     "metadata": {},
     "output_type": "display_data"
    }
   ],
   "source": [
    "plt.stem(np.abs(DFT(genSine(A = 1, f = 10.0, phi = 1.0, fs = 50, t = 0.1))))"
   ]
  },
  {
   "cell_type": "code",
   "execution_count": 44,
   "metadata": {},
   "outputs": [],
   "source": [
    "import numpy as np\n",
    "\n",
    "\"\"\"\n",
    "A2-Part-4: Implement the inverse discrete Fourier transform (IDFT)\n",
    "\n",
    "Write a function that implements the inverse discrete Fourier transform (IDFT). Given a frequency \n",
    "spectrum X of length N, the function should return its IDFT x, also of length N. Assume that the \n",
    "frequency index of the input spectrum ranges from 0 to N-1.\n",
    "\n",
    "The input argument to the function is a numpy array X of the frequency spectrum and the function should return \n",
    "a numpy array of the IDFT of X.\n",
    "\n",
    "Remember to scale the output appropriately.\n",
    "\n",
    "EXAMPLE: If you run your function using X = np.array([1 ,1 ,1 ,1]), the function should return the following numpy \n",
    "array x: array([  1.00000000e+00 +0.00000000e+00j,   -4.59242550e-17 +5.55111512e-17j,\n",
    "    0.00000000e+00 +6.12323400e-17j,   8.22616137e-17 +8.32667268e-17j])\n",
    "\n",
    "Notice that the output numpy array is essentially [1, 0, 0, 0]. Instead of exact 0 we get very small\n",
    "numerical values of the order of 1e-15, which can be ignored. Also, these small numerical errors are \n",
    "machine dependent and might be different in your case.\n",
    "\n",
    "In addition, an interesting test of the IDFT function can be done by providing the output of the DFT of \n",
    "a sequence as the input to the IDFT. See if you get back the original time domain sequence.\n",
    "\n",
    "\"\"\"\n",
    "def IDFT(X):\n",
    "    \"\"\"\n",
    "    Input:\n",
    "        X (numpy array) = frequency spectrum (length N)\n",
    "    Output:\n",
    "        The function should return a numpy array of length N \n",
    "        x (numpy array) = The N point IDFT of the frequency spectrum X\n",
    "    \"\"\"\n",
    "    x = np.array([])\n",
    "    for k in range(len(X)):\n",
    "        s = np.exp(1j*2*np.pi*k/len(X)*np.arange(len(X)))\n",
    "        x = np.append(x, np.sum(X*s))\n",
    "    return x/len(X)"
   ]
  },
  {
   "cell_type": "code",
   "execution_count": 49,
   "metadata": {},
   "outputs": [],
   "source": [
    "X = np.array([1 ,1 ,1 ,1])"
   ]
  },
  {
   "cell_type": "code",
   "execution_count": 46,
   "metadata": {},
   "outputs": [
    {
     "data": {
      "text/plain": [
       "array([ 1.00000000e+00+0.00000000e+00j, -5.55111512e-17+2.77555756e-17j,\n",
       "        0.00000000e+00+6.12323400e-17j,  8.32667268e-17+1.11022302e-16j])"
      ]
     },
     "execution_count": 46,
     "metadata": {},
     "output_type": "execute_result"
    }
   ],
   "source": [
    "IDFT(X)"
   ]
  },
  {
   "cell_type": "code",
   "execution_count": null,
   "metadata": {},
   "outputs": [],
   "source": []
  }
 ],
 "metadata": {
  "kernelspec": {
   "display_name": "Python 3",
   "language": "python",
   "name": "python3"
  },
  "language_info": {
   "codemirror_mode": {
    "name": "ipython",
    "version": 3
   },
   "file_extension": ".py",
   "mimetype": "text/x-python",
   "name": "python",
   "nbconvert_exporter": "python",
   "pygments_lexer": "ipython3",
   "version": "3.6.4"
  }
 },
 "nbformat": 4,
 "nbformat_minor": 2
}
