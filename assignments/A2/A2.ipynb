{
 "cells": [
  {
   "cell_type": "code",
   "execution_count": 1,
   "metadata": {},
   "outputs": [],
   "source": [
    "import numpy as np"
   ]
  },
  {
   "cell_type": "code",
   "execution_count": 2,
   "metadata": {},
   "outputs": [],
   "source": [
    "\"\"\"\n",
    "A2-Part-1: Generate a sinusoid\n",
    "\n",
    "Write a function to generate a real sinusoid (use np.cos()) given its amplitude A, frequency f (Hz), initial phase phi (radians), \n",
    "sampling rate fs (Hz) and duration t (seconds). \n",
    "\n",
    "All the input arguments to this function (A, f, phi, fs and t) are real numbers such that A, t and fs are \n",
    "positive, and fs > 2*f to avoid aliasing. The function should return a numpy array x of the generated \n",
    "sinusoid.\n",
    "\n",
    "EXAMPLE: If you run your code using A=1.0, f = 10.0, phi = 1.0, fs = 50.0 and t = 0.1, the output numpy \n",
    "array should be: array([ 0.54030231, -0.63332387, -0.93171798,  0.05749049,  0.96724906])\n",
    "\"\"\"\n",
    "def genSine(A, f, phi, fs, t):\n",
    "    \"\"\"\n",
    "    Inputs:\n",
    "        A (float) =  amplitude of the sinusoid\n",
    "        f (float) = frequency of the sinusoid in Hz\n",
    "        phi (float) = initial phase of the sinusoid in radians\n",
    "        fs (float) = sampling frequency of the sinusoid in Hz\n",
    "        t (float) =  duration of the sinusoid (is second)\n",
    "    Output:\n",
    "        The function should return a numpy array\n",
    "        x (numpy array) = The generated sinusoid (use np.cos())\n",
    "    \"\"\"\n",
    "    n = np.arange(fs*t)\n",
    "    return A*np.cos(2*np.pi*f*n*1/fs + phi)"
   ]
  },
  {
   "cell_type": "code",
   "execution_count": 3,
   "metadata": {},
   "outputs": [
    {
     "name": "stdout",
     "output_type": "stream",
     "text": [
      "Testing result [ 0.54030231 -0.63332387 -0.93171798  0.05749049  0.96724906]\n"
     ]
    }
   ],
   "source": [
    "print('Testing result {}'.format(genSine(A = 1, f = 10.0, phi = 1.0, fs = 50, t = 0.1)))"
   ]
  },
  {
   "cell_type": "code",
   "execution_count": null,
   "metadata": {},
   "outputs": [],
   "source": []
  }
 ],
 "metadata": {
  "kernelspec": {
   "display_name": "Python 3",
   "language": "python",
   "name": "python3"
  },
  "language_info": {
   "codemirror_mode": {
    "name": "ipython",
    "version": 3
   },
   "file_extension": ".py",
   "mimetype": "text/x-python",
   "name": "python",
   "nbconvert_exporter": "python",
   "pygments_lexer": "ipython3",
   "version": "3.6.4"
  }
 },
 "nbformat": 4,
 "nbformat_minor": 2
}
